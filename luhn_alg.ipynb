{
 "cells": [
  {
   "cell_type": "code",
   "execution_count": 1,
   "metadata": {},
   "outputs": [],
   "source": [
    "import sys"
   ]
  },
  {
   "cell_type": "code",
   "execution_count": 2,
   "metadata": {},
   "outputs": [],
   "source": [
    "def luhn_help():\n",
    "    help_string = 'Помощь'\n",
    "    print(help_string)"
   ]
  },
  {
   "cell_type": "code",
   "execution_count": 3,
   "metadata": {},
   "outputs": [],
   "source": [
    "def luhn_test():\n",
    "    test = ['4561 2612 1234 5464', '4569 0600 1250 4921']\n",
    "    expect = [False, True]\n",
    "    for x, y in zip(test, expect):\n",
    "        print('input:\\t{}'.format(x))\n",
    "        print('\\tSimple: {}; expected: {}'.format(luhn_simple(x), y))\n",
    "        print('\\tOrign: {}; expected: {}'.format(luhn_orig(x), y))"
   ]
  },
  {
   "cell_type": "code",
   "execution_count": 4,
   "metadata": {},
   "outputs": [],
   "source": [
    "def luhn_orig(code):\n",
    "    numbers = [int(digit) for digit in code.replace(' ', '')]\n",
    "    for i in range(len(numbers)):\n",
    "        if (i+1) % 2 == 0:\n",
    "            if numbers[i]*2 > 9:\n",
    "                numbers[i] = (numbers[i]*2) % 10 + (numbers[i]*2) // 10\n",
    "            else:\n",
    "                numbers[i] *= 2\n",
    "    return sum(numbers) % 10 == 0"
   ]
  },
  {
   "cell_type": "code",
   "execution_count": 5,
   "metadata": {},
   "outputs": [],
   "source": [
    "def luhn_simple(code):\n",
    "    numbers = [int(digit) for digit in code.replace(' ', '')]\n",
    "    for i in range(len(numbers)):\n",
    "        if (i+1) % 2 == 0:\n",
    "            if numbers[i]*2 > 9:\n",
    "                numbers[i] -= 9\n",
    "            else:\n",
    "                numbers[i] *= 2\n",
    "    return sum(numbers) % 10 == 0"
   ]
  },
  {
   "cell_type": "code",
   "execution_count": 6,
   "metadata": {},
   "outputs": [
    {
     "name": "stdout",
     "output_type": "stream",
     "text": [
      "Неизвестная команда, введите -h\n"
     ]
    }
   ],
   "source": [
    "if __name__ == '__main__':\n",
    "    mode = sys.argv[1]\n",
    "    if mode == '-h':\n",
    "        lunh_help()\n",
    "    elif mode == '-t':\n",
    "        luhn_test()\n",
    "    elif mode == '-o':\n",
    "        print(luhn_orig(sys.argv[2:]))\n",
    "    elif mode == '-s':\n",
    "        print(luhn_simple(sys.argv[2:]))\n",
    "    else:\n",
    "        print('Неизвестная команда, введите -h')"
   ]
  },
  {
   "cell_type": "code",
   "execution_count": null,
   "metadata": {},
   "outputs": [],
   "source": []
  }
 ],
 "metadata": {
  "kernelspec": {
   "display_name": "Python 3",
   "language": "python",
   "name": "python3"
  },
  "language_info": {
   "codemirror_mode": {
    "name": "ipython",
    "version": 3
   },
   "file_extension": ".py",
   "mimetype": "text/x-python",
   "name": "python",
   "nbconvert_exporter": "python",
   "pygments_lexer": "ipython3",
   "version": "3.7.6"
  }
 },
 "nbformat": 4,
 "nbformat_minor": 4
}
